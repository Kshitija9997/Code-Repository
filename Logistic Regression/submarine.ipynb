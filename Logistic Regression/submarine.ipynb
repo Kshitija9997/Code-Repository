{
 "cells": [
  {
   "cell_type": "markdown",
   "metadata": {},
   "source": [
    "### Logistic Regression: Submarine "
   ]
  },
  {
   "cell_type": "code",
   "execution_count": 1,
   "metadata": {},
   "outputs": [],
   "source": [
    "from warnings import filterwarnings\n",
    "filterwarnings('ignore')"
   ]
  },
  {
   "cell_type": "code",
   "execution_count": 2,
   "metadata": {},
   "outputs": [],
   "source": [
    "import pandas as pd\n",
    "import numpy as np\n",
    "import seaborn as sns\n",
    "import matplotlib.pyplot as plt"
   ]
  },
  {
   "cell_type": "markdown",
   "metadata": {},
   "source": [
    "### read the Dataset"
   ]
  },
  {
   "cell_type": "code",
   "execution_count": 5,
   "metadata": {},
   "outputs": [
    {
     "data": {
      "text/html": [
       "<div>\n",
       "<style scoped>\n",
       "    .dataframe tbody tr th:only-of-type {\n",
       "        vertical-align: middle;\n",
       "    }\n",
       "\n",
       "    .dataframe tbody tr th {\n",
       "        vertical-align: top;\n",
       "    }\n",
       "\n",
       "    .dataframe thead th {\n",
       "        text-align: right;\n",
       "    }\n",
       "</style>\n",
       "<table border=\"1\" class=\"dataframe\">\n",
       "  <thead>\n",
       "    <tr style=\"text-align: right;\">\n",
       "      <th></th>\n",
       "      <th>0.0200</th>\n",
       "      <th>0.0371</th>\n",
       "      <th>0.0428</th>\n",
       "      <th>0.0207</th>\n",
       "      <th>0.0954</th>\n",
       "      <th>0.0986</th>\n",
       "      <th>0.1539</th>\n",
       "      <th>0.1601</th>\n",
       "      <th>0.3109</th>\n",
       "      <th>0.2111</th>\n",
       "      <th>...</th>\n",
       "      <th>0.0027</th>\n",
       "      <th>0.0065</th>\n",
       "      <th>0.0159</th>\n",
       "      <th>0.0072</th>\n",
       "      <th>0.0167</th>\n",
       "      <th>0.0180</th>\n",
       "      <th>0.0084</th>\n",
       "      <th>0.0090</th>\n",
       "      <th>0.0032</th>\n",
       "      <th>R</th>\n",
       "    </tr>\n",
       "  </thead>\n",
       "  <tbody>\n",
       "    <tr>\n",
       "      <th>0</th>\n",
       "      <td>0.0453</td>\n",
       "      <td>0.0523</td>\n",
       "      <td>0.0843</td>\n",
       "      <td>0.0689</td>\n",
       "      <td>0.1183</td>\n",
       "      <td>0.2583</td>\n",
       "      <td>0.2156</td>\n",
       "      <td>0.3481</td>\n",
       "      <td>0.3337</td>\n",
       "      <td>0.2872</td>\n",
       "      <td>...</td>\n",
       "      <td>0.0084</td>\n",
       "      <td>0.0089</td>\n",
       "      <td>0.0048</td>\n",
       "      <td>0.0094</td>\n",
       "      <td>0.0191</td>\n",
       "      <td>0.0140</td>\n",
       "      <td>0.0049</td>\n",
       "      <td>0.0052</td>\n",
       "      <td>0.0044</td>\n",
       "      <td>R</td>\n",
       "    </tr>\n",
       "    <tr>\n",
       "      <th>1</th>\n",
       "      <td>0.0262</td>\n",
       "      <td>0.0582</td>\n",
       "      <td>0.1099</td>\n",
       "      <td>0.1083</td>\n",
       "      <td>0.0974</td>\n",
       "      <td>0.2280</td>\n",
       "      <td>0.2431</td>\n",
       "      <td>0.3771</td>\n",
       "      <td>0.5598</td>\n",
       "      <td>0.6194</td>\n",
       "      <td>...</td>\n",
       "      <td>0.0232</td>\n",
       "      <td>0.0166</td>\n",
       "      <td>0.0095</td>\n",
       "      <td>0.0180</td>\n",
       "      <td>0.0244</td>\n",
       "      <td>0.0316</td>\n",
       "      <td>0.0164</td>\n",
       "      <td>0.0095</td>\n",
       "      <td>0.0078</td>\n",
       "      <td>R</td>\n",
       "    </tr>\n",
       "    <tr>\n",
       "      <th>2</th>\n",
       "      <td>0.0100</td>\n",
       "      <td>0.0171</td>\n",
       "      <td>0.0623</td>\n",
       "      <td>0.0205</td>\n",
       "      <td>0.0205</td>\n",
       "      <td>0.0368</td>\n",
       "      <td>0.1098</td>\n",
       "      <td>0.1276</td>\n",
       "      <td>0.0598</td>\n",
       "      <td>0.1264</td>\n",
       "      <td>...</td>\n",
       "      <td>0.0121</td>\n",
       "      <td>0.0036</td>\n",
       "      <td>0.0150</td>\n",
       "      <td>0.0085</td>\n",
       "      <td>0.0073</td>\n",
       "      <td>0.0050</td>\n",
       "      <td>0.0044</td>\n",
       "      <td>0.0040</td>\n",
       "      <td>0.0117</td>\n",
       "      <td>R</td>\n",
       "    </tr>\n",
       "    <tr>\n",
       "      <th>3</th>\n",
       "      <td>0.0762</td>\n",
       "      <td>0.0666</td>\n",
       "      <td>0.0481</td>\n",
       "      <td>0.0394</td>\n",
       "      <td>0.0590</td>\n",
       "      <td>0.0649</td>\n",
       "      <td>0.1209</td>\n",
       "      <td>0.2467</td>\n",
       "      <td>0.3564</td>\n",
       "      <td>0.4459</td>\n",
       "      <td>...</td>\n",
       "      <td>0.0031</td>\n",
       "      <td>0.0054</td>\n",
       "      <td>0.0105</td>\n",
       "      <td>0.0110</td>\n",
       "      <td>0.0015</td>\n",
       "      <td>0.0072</td>\n",
       "      <td>0.0048</td>\n",
       "      <td>0.0107</td>\n",
       "      <td>0.0094</td>\n",
       "      <td>R</td>\n",
       "    </tr>\n",
       "    <tr>\n",
       "      <th>4</th>\n",
       "      <td>0.0286</td>\n",
       "      <td>0.0453</td>\n",
       "      <td>0.0277</td>\n",
       "      <td>0.0174</td>\n",
       "      <td>0.0384</td>\n",
       "      <td>0.0990</td>\n",
       "      <td>0.1201</td>\n",
       "      <td>0.1833</td>\n",
       "      <td>0.2105</td>\n",
       "      <td>0.3039</td>\n",
       "      <td>...</td>\n",
       "      <td>0.0045</td>\n",
       "      <td>0.0014</td>\n",
       "      <td>0.0038</td>\n",
       "      <td>0.0013</td>\n",
       "      <td>0.0089</td>\n",
       "      <td>0.0057</td>\n",
       "      <td>0.0027</td>\n",
       "      <td>0.0051</td>\n",
       "      <td>0.0062</td>\n",
       "      <td>R</td>\n",
       "    </tr>\n",
       "  </tbody>\n",
       "</table>\n",
       "<p>5 rows × 61 columns</p>\n",
       "</div>"
      ],
      "text/plain": [
       "   0.0200  0.0371  0.0428  0.0207  0.0954  0.0986  0.1539  0.1601  0.3109  \\\n",
       "0  0.0453  0.0523  0.0843  0.0689  0.1183  0.2583  0.2156  0.3481  0.3337   \n",
       "1  0.0262  0.0582  0.1099  0.1083  0.0974  0.2280  0.2431  0.3771  0.5598   \n",
       "2  0.0100  0.0171  0.0623  0.0205  0.0205  0.0368  0.1098  0.1276  0.0598   \n",
       "3  0.0762  0.0666  0.0481  0.0394  0.0590  0.0649  0.1209  0.2467  0.3564   \n",
       "4  0.0286  0.0453  0.0277  0.0174  0.0384  0.0990  0.1201  0.1833  0.2105   \n",
       "\n",
       "   0.2111  ...  0.0027  0.0065  0.0159  0.0072  0.0167  0.0180  0.0084  \\\n",
       "0  0.2872  ...  0.0084  0.0089  0.0048  0.0094  0.0191  0.0140  0.0049   \n",
       "1  0.6194  ...  0.0232  0.0166  0.0095  0.0180  0.0244  0.0316  0.0164   \n",
       "2  0.1264  ...  0.0121  0.0036  0.0150  0.0085  0.0073  0.0050  0.0044   \n",
       "3  0.4459  ...  0.0031  0.0054  0.0105  0.0110  0.0015  0.0072  0.0048   \n",
       "4  0.3039  ...  0.0045  0.0014  0.0038  0.0013  0.0089  0.0057  0.0027   \n",
       "\n",
       "   0.0090  0.0032  R  \n",
       "0  0.0052  0.0044  R  \n",
       "1  0.0095  0.0078  R  \n",
       "2  0.0040  0.0117  R  \n",
       "3  0.0107  0.0094  R  \n",
       "4  0.0051  0.0062  R  \n",
       "\n",
       "[5 rows x 61 columns]"
      ]
     },
     "execution_count": 5,
     "metadata": {},
     "output_type": "execute_result"
    }
   ],
   "source": [
    "df = pd.read_csv('submarin dataset.csv')\n",
    "df.head()"
   ]
  },
  {
   "cell_type": "code",
   "execution_count": 8,
   "metadata": {},
   "outputs": [
    {
     "data": {
      "text/plain": [
       "R\n",
       "M    111\n",
       "R     96\n",
       "Name: count, dtype: int64"
      ]
     },
     "execution_count": 8,
     "metadata": {},
     "output_type": "execute_result"
    }
   ],
   "source": [
    "df['R'].value_counts()\n",
    "#M===> Mine\n",
    "#R===> Rock"
   ]
  },
  {
   "cell_type": "code",
   "execution_count": 9,
   "metadata": {},
   "outputs": [
    {
     "name": "stdout",
     "output_type": "stream",
     "text": [
      "<class 'pandas.core.frame.DataFrame'>\n",
      "RangeIndex: 207 entries, 0 to 206\n",
      "Data columns (total 61 columns):\n",
      " #   Column  Non-Null Count  Dtype  \n",
      "---  ------  --------------  -----  \n",
      " 0   0.0200  207 non-null    float64\n",
      " 1   0.0371  207 non-null    float64\n",
      " 2   0.0428  207 non-null    float64\n",
      " 3   0.0207  207 non-null    float64\n",
      " 4   0.0954  207 non-null    float64\n",
      " 5   0.0986  207 non-null    float64\n",
      " 6   0.1539  207 non-null    float64\n",
      " 7   0.1601  207 non-null    float64\n",
      " 8   0.3109  207 non-null    float64\n",
      " 9   0.2111  207 non-null    float64\n",
      " 10  0.1609  207 non-null    float64\n",
      " 11  0.1582  207 non-null    float64\n",
      " 12  0.2238  207 non-null    float64\n",
      " 13  0.0645  207 non-null    float64\n",
      " 14  0.0660  207 non-null    float64\n",
      " 15  0.2273  207 non-null    float64\n",
      " 16  0.3100  207 non-null    float64\n",
      " 17  0.2999  207 non-null    float64\n",
      " 18  0.5078  207 non-null    float64\n",
      " 19  0.4797  207 non-null    float64\n",
      " 20  0.5783  207 non-null    float64\n",
      " 21  0.5071  207 non-null    float64\n",
      " 22  0.4328  207 non-null    float64\n",
      " 23  0.5550  207 non-null    float64\n",
      " 24  0.6711  207 non-null    float64\n",
      " 25  0.6415  207 non-null    float64\n",
      " 26  0.7104  207 non-null    float64\n",
      " 27  0.8080  207 non-null    float64\n",
      " 28  0.6791  207 non-null    float64\n",
      " 29  0.3857  207 non-null    float64\n",
      " 30  0.1307  207 non-null    float64\n",
      " 31  0.2604  207 non-null    float64\n",
      " 32  0.5121  207 non-null    float64\n",
      " 33  0.7547  207 non-null    float64\n",
      " 34  0.8537  207 non-null    float64\n",
      " 35  0.8507  207 non-null    float64\n",
      " 36  0.6692  207 non-null    float64\n",
      " 37  0.6097  207 non-null    float64\n",
      " 38  0.4943  207 non-null    float64\n",
      " 39  0.2744  207 non-null    float64\n",
      " 40  0.0510  207 non-null    float64\n",
      " 41  0.2834  207 non-null    float64\n",
      " 42  0.2825  207 non-null    float64\n",
      " 43  0.4256  207 non-null    float64\n",
      " 44  0.2641  207 non-null    float64\n",
      " 45  0.1386  207 non-null    float64\n",
      " 46  0.1051  207 non-null    float64\n",
      " 47  0.1343  207 non-null    float64\n",
      " 48  0.0383  207 non-null    float64\n",
      " 49  0.0324  207 non-null    float64\n",
      " 50  0.0232  207 non-null    float64\n",
      " 51  0.0027  207 non-null    float64\n",
      " 52  0.0065  207 non-null    float64\n",
      " 53  0.0159  207 non-null    float64\n",
      " 54  0.0072  207 non-null    float64\n",
      " 55  0.0167  207 non-null    float64\n",
      " 56  0.0180  207 non-null    float64\n",
      " 57  0.0084  207 non-null    float64\n",
      " 58  0.0090  207 non-null    float64\n",
      " 59  0.0032  207 non-null    float64\n",
      " 60  R       207 non-null    object \n",
      "dtypes: float64(60), object(1)\n",
      "memory usage: 98.8+ KB\n"
     ]
    }
   ],
   "source": [
    "df.info()"
   ]
  },
  {
   "cell_type": "code",
   "execution_count": 12,
   "metadata": {},
   "outputs": [
    {
     "data": {
      "text/plain": [
       "0.0200    0\n",
       "0.0371    0\n",
       "0.0428    0\n",
       "0.0207    0\n",
       "0.0954    0\n",
       "         ..\n",
       "0.0180    0\n",
       "0.0084    0\n",
       "0.0090    0\n",
       "0.0032    0\n",
       "R         0\n",
       "Length: 61, dtype: int64"
      ]
     },
     "execution_count": 12,
     "metadata": {},
     "output_type": "execute_result"
    }
   ],
   "source": [
    "df.isna().sum()"
   ]
  },
  {
   "cell_type": "markdown",
   "metadata": {},
   "source": [
    "### Seperate X and Y"
   ]
  },
  {
   "cell_type": "code",
   "execution_count": 13,
   "metadata": {},
   "outputs": [],
   "source": [
    "x= df.drop(columns=['R'],axis=1)\n",
    "y= df[['R']]"
   ]
  },
  {
   "cell_type": "code",
   "execution_count": 14,
   "metadata": {},
   "outputs": [
    {
     "data": {
      "text/html": [
       "<div>\n",
       "<style scoped>\n",
       "    .dataframe tbody tr th:only-of-type {\n",
       "        vertical-align: middle;\n",
       "    }\n",
       "\n",
       "    .dataframe tbody tr th {\n",
       "        vertical-align: top;\n",
       "    }\n",
       "\n",
       "    .dataframe thead th {\n",
       "        text-align: right;\n",
       "    }\n",
       "</style>\n",
       "<table border=\"1\" class=\"dataframe\">\n",
       "  <thead>\n",
       "    <tr style=\"text-align: right;\">\n",
       "      <th></th>\n",
       "      <th>0.0200</th>\n",
       "      <th>0.0371</th>\n",
       "      <th>0.0428</th>\n",
       "      <th>0.0207</th>\n",
       "      <th>0.0954</th>\n",
       "      <th>0.0986</th>\n",
       "      <th>0.1539</th>\n",
       "      <th>0.1601</th>\n",
       "      <th>0.3109</th>\n",
       "      <th>0.2111</th>\n",
       "      <th>...</th>\n",
       "      <th>0.0232</th>\n",
       "      <th>0.0027</th>\n",
       "      <th>0.0065</th>\n",
       "      <th>0.0159</th>\n",
       "      <th>0.0072</th>\n",
       "      <th>0.0167</th>\n",
       "      <th>0.0180</th>\n",
       "      <th>0.0084</th>\n",
       "      <th>0.0090</th>\n",
       "      <th>0.0032</th>\n",
       "    </tr>\n",
       "  </thead>\n",
       "  <tbody>\n",
       "    <tr>\n",
       "      <th>0</th>\n",
       "      <td>0.0453</td>\n",
       "      <td>0.0523</td>\n",
       "      <td>0.0843</td>\n",
       "      <td>0.0689</td>\n",
       "      <td>0.1183</td>\n",
       "      <td>0.2583</td>\n",
       "      <td>0.2156</td>\n",
       "      <td>0.3481</td>\n",
       "      <td>0.3337</td>\n",
       "      <td>0.2872</td>\n",
       "      <td>...</td>\n",
       "      <td>0.0125</td>\n",
       "      <td>0.0084</td>\n",
       "      <td>0.0089</td>\n",
       "      <td>0.0048</td>\n",
       "      <td>0.0094</td>\n",
       "      <td>0.0191</td>\n",
       "      <td>0.0140</td>\n",
       "      <td>0.0049</td>\n",
       "      <td>0.0052</td>\n",
       "      <td>0.0044</td>\n",
       "    </tr>\n",
       "    <tr>\n",
       "      <th>1</th>\n",
       "      <td>0.0262</td>\n",
       "      <td>0.0582</td>\n",
       "      <td>0.1099</td>\n",
       "      <td>0.1083</td>\n",
       "      <td>0.0974</td>\n",
       "      <td>0.2280</td>\n",
       "      <td>0.2431</td>\n",
       "      <td>0.3771</td>\n",
       "      <td>0.5598</td>\n",
       "      <td>0.6194</td>\n",
       "      <td>...</td>\n",
       "      <td>0.0033</td>\n",
       "      <td>0.0232</td>\n",
       "      <td>0.0166</td>\n",
       "      <td>0.0095</td>\n",
       "      <td>0.0180</td>\n",
       "      <td>0.0244</td>\n",
       "      <td>0.0316</td>\n",
       "      <td>0.0164</td>\n",
       "      <td>0.0095</td>\n",
       "      <td>0.0078</td>\n",
       "    </tr>\n",
       "    <tr>\n",
       "      <th>2</th>\n",
       "      <td>0.0100</td>\n",
       "      <td>0.0171</td>\n",
       "      <td>0.0623</td>\n",
       "      <td>0.0205</td>\n",
       "      <td>0.0205</td>\n",
       "      <td>0.0368</td>\n",
       "      <td>0.1098</td>\n",
       "      <td>0.1276</td>\n",
       "      <td>0.0598</td>\n",
       "      <td>0.1264</td>\n",
       "      <td>...</td>\n",
       "      <td>0.0241</td>\n",
       "      <td>0.0121</td>\n",
       "      <td>0.0036</td>\n",
       "      <td>0.0150</td>\n",
       "      <td>0.0085</td>\n",
       "      <td>0.0073</td>\n",
       "      <td>0.0050</td>\n",
       "      <td>0.0044</td>\n",
       "      <td>0.0040</td>\n",
       "      <td>0.0117</td>\n",
       "    </tr>\n",
       "    <tr>\n",
       "      <th>3</th>\n",
       "      <td>0.0762</td>\n",
       "      <td>0.0666</td>\n",
       "      <td>0.0481</td>\n",
       "      <td>0.0394</td>\n",
       "      <td>0.0590</td>\n",
       "      <td>0.0649</td>\n",
       "      <td>0.1209</td>\n",
       "      <td>0.2467</td>\n",
       "      <td>0.3564</td>\n",
       "      <td>0.4459</td>\n",
       "      <td>...</td>\n",
       "      <td>0.0156</td>\n",
       "      <td>0.0031</td>\n",
       "      <td>0.0054</td>\n",
       "      <td>0.0105</td>\n",
       "      <td>0.0110</td>\n",
       "      <td>0.0015</td>\n",
       "      <td>0.0072</td>\n",
       "      <td>0.0048</td>\n",
       "      <td>0.0107</td>\n",
       "      <td>0.0094</td>\n",
       "    </tr>\n",
       "    <tr>\n",
       "      <th>4</th>\n",
       "      <td>0.0286</td>\n",
       "      <td>0.0453</td>\n",
       "      <td>0.0277</td>\n",
       "      <td>0.0174</td>\n",
       "      <td>0.0384</td>\n",
       "      <td>0.0990</td>\n",
       "      <td>0.1201</td>\n",
       "      <td>0.1833</td>\n",
       "      <td>0.2105</td>\n",
       "      <td>0.3039</td>\n",
       "      <td>...</td>\n",
       "      <td>0.0104</td>\n",
       "      <td>0.0045</td>\n",
       "      <td>0.0014</td>\n",
       "      <td>0.0038</td>\n",
       "      <td>0.0013</td>\n",
       "      <td>0.0089</td>\n",
       "      <td>0.0057</td>\n",
       "      <td>0.0027</td>\n",
       "      <td>0.0051</td>\n",
       "      <td>0.0062</td>\n",
       "    </tr>\n",
       "  </tbody>\n",
       "</table>\n",
       "<p>5 rows × 60 columns</p>\n",
       "</div>"
      ],
      "text/plain": [
       "   0.0200  0.0371  0.0428  0.0207  0.0954  0.0986  0.1539  0.1601  0.3109  \\\n",
       "0  0.0453  0.0523  0.0843  0.0689  0.1183  0.2583  0.2156  0.3481  0.3337   \n",
       "1  0.0262  0.0582  0.1099  0.1083  0.0974  0.2280  0.2431  0.3771  0.5598   \n",
       "2  0.0100  0.0171  0.0623  0.0205  0.0205  0.0368  0.1098  0.1276  0.0598   \n",
       "3  0.0762  0.0666  0.0481  0.0394  0.0590  0.0649  0.1209  0.2467  0.3564   \n",
       "4  0.0286  0.0453  0.0277  0.0174  0.0384  0.0990  0.1201  0.1833  0.2105   \n",
       "\n",
       "   0.2111  ...  0.0232  0.0027  0.0065  0.0159  0.0072  0.0167  0.0180  \\\n",
       "0  0.2872  ...  0.0125  0.0084  0.0089  0.0048  0.0094  0.0191  0.0140   \n",
       "1  0.6194  ...  0.0033  0.0232  0.0166  0.0095  0.0180  0.0244  0.0316   \n",
       "2  0.1264  ...  0.0241  0.0121  0.0036  0.0150  0.0085  0.0073  0.0050   \n",
       "3  0.4459  ...  0.0156  0.0031  0.0054  0.0105  0.0110  0.0015  0.0072   \n",
       "4  0.3039  ...  0.0104  0.0045  0.0014  0.0038  0.0013  0.0089  0.0057   \n",
       "\n",
       "   0.0084  0.0090  0.0032  \n",
       "0  0.0049  0.0052  0.0044  \n",
       "1  0.0164  0.0095  0.0078  \n",
       "2  0.0044  0.0040  0.0117  \n",
       "3  0.0048  0.0107  0.0094  \n",
       "4  0.0027  0.0051  0.0062  \n",
       "\n",
       "[5 rows x 60 columns]"
      ]
     },
     "execution_count": 14,
     "metadata": {},
     "output_type": "execute_result"
    }
   ],
   "source": [
    "x.head()"
   ]
  },
  {
   "cell_type": "code",
   "execution_count": 15,
   "metadata": {},
   "outputs": [
    {
     "data": {
      "text/html": [
       "<div>\n",
       "<style scoped>\n",
       "    .dataframe tbody tr th:only-of-type {\n",
       "        vertical-align: middle;\n",
       "    }\n",
       "\n",
       "    .dataframe tbody tr th {\n",
       "        vertical-align: top;\n",
       "    }\n",
       "\n",
       "    .dataframe thead th {\n",
       "        text-align: right;\n",
       "    }\n",
       "</style>\n",
       "<table border=\"1\" class=\"dataframe\">\n",
       "  <thead>\n",
       "    <tr style=\"text-align: right;\">\n",
       "      <th></th>\n",
       "      <th>R</th>\n",
       "    </tr>\n",
       "  </thead>\n",
       "  <tbody>\n",
       "    <tr>\n",
       "      <th>0</th>\n",
       "      <td>R</td>\n",
       "    </tr>\n",
       "    <tr>\n",
       "      <th>1</th>\n",
       "      <td>R</td>\n",
       "    </tr>\n",
       "    <tr>\n",
       "      <th>2</th>\n",
       "      <td>R</td>\n",
       "    </tr>\n",
       "    <tr>\n",
       "      <th>3</th>\n",
       "      <td>R</td>\n",
       "    </tr>\n",
       "    <tr>\n",
       "      <th>4</th>\n",
       "      <td>R</td>\n",
       "    </tr>\n",
       "  </tbody>\n",
       "</table>\n",
       "</div>"
      ],
      "text/plain": [
       "   R\n",
       "0  R\n",
       "1  R\n",
       "2  R\n",
       "3  R\n",
       "4  R"
      ]
     },
     "execution_count": 15,
     "metadata": {},
     "output_type": "execute_result"
    }
   ],
   "source": [
    "y.head()"
   ]
  },
  {
   "cell_type": "markdown",
   "metadata": {},
   "source": [
    "### LAbel encoding on targeted column"
   ]
  },
  {
   "cell_type": "code",
   "execution_count": 16,
   "metadata": {},
   "outputs": [],
   "source": [
    "from sklearn.preprocessing import LabelEncoder\n",
    "le= LabelEncoder()\n",
    "y['R']= le.fit_transform(y['R'])"
   ]
  },
  {
   "cell_type": "code",
   "execution_count": 19,
   "metadata": {},
   "outputs": [
    {
     "data": {
      "text/plain": [
       "R\n",
       "0    111\n",
       "1     96\n",
       "Name: count, dtype: int64"
      ]
     },
     "execution_count": 19,
     "metadata": {},
     "output_type": "execute_result"
    }
   ],
   "source": [
    "y['R'].value_counts()\n",
    "# 0 ==> R (Rock)\n",
    "# 1 ==> M (Mine)"
   ]
  },
  {
   "cell_type": "markdown",
   "metadata": {},
   "source": [
    "### Preprocessing of X features"
   ]
  },
  {
   "cell_type": "code",
   "execution_count": 20,
   "metadata": {},
   "outputs": [],
   "source": [
    "from sklearn.pipeline import Pipeline\n",
    "from sklearn.impute import SimpleImputer\n",
    "from sklearn.preprocessing import StandardScaler\n"
   ]
  },
  {
   "cell_type": "code",
   "execution_count": 21,
   "metadata": {},
   "outputs": [],
   "source": [
    "num_pipe= Pipeline(steps=[('impute', SimpleImputer(strategy='mean')),\n",
    "                          ('scaler', StandardScaler())])"
   ]
  },
  {
   "cell_type": "code",
   "execution_count": 22,
   "metadata": {},
   "outputs": [
    {
     "data": {
      "text/plain": [
       "array([[ 0.70018948,  0.42042142,  1.0529498 , ..., -0.4709383 ,\n",
       "        -0.44268846, -0.42246083],\n",
       "       [-0.13089402,  0.59942737,  1.71912994, ...,  1.30656071,\n",
       "         0.25299833,  0.25405324],\n",
       "       [-0.83579208, -0.64754631,  0.48045125, ..., -0.54822087,\n",
       "        -0.63683361,  1.03005467],\n",
       "       ...,\n",
       "       [ 1.00042384,  0.15949749, -0.67235266, ...,  0.90469137,\n",
       "        -0.0382194 , -0.68112798],\n",
       "       [ 0.0475061 , -0.09535845,  0.13434985, ..., -0.00724291,\n",
       "        -0.70154866, -0.34287094],\n",
       "       [-0.13959647, -0.06501846, -0.78685237, ..., -0.67187297,\n",
       "        -0.2970796 ,  0.99025973]])"
      ]
     },
     "execution_count": 22,
     "metadata": {},
     "output_type": "execute_result"
    }
   ],
   "source": [
    "x_pre = num_pipe.fit_transform(x)\n",
    "x_pre"
   ]
  },
  {
   "cell_type": "code",
   "execution_count": 23,
   "metadata": {},
   "outputs": [],
   "source": [
    "cols= num_pipe.get_feature_names_out()"
   ]
  },
  {
   "cell_type": "code",
   "execution_count": 24,
   "metadata": {},
   "outputs": [
    {
     "data": {
      "text/plain": [
       "array(['0.0200', '0.0371', '0.0428', '0.0207', '0.0954', '0.0986',\n",
       "       '0.1539', '0.1601', '0.3109', '0.2111', '0.1609', '0.1582',\n",
       "       '0.2238', '0.0645', '0.0660', '0.2273', '0.3100', '0.2999',\n",
       "       '0.5078', '0.4797', '0.5783', '0.5071', '0.4328', '0.5550',\n",
       "       '0.6711', '0.6415', '0.7104', '0.8080', '0.6791', '0.3857',\n",
       "       '0.1307', '0.2604', '0.5121', '0.7547', '0.8537', '0.8507',\n",
       "       '0.6692', '0.6097', '0.4943', '0.2744', '0.0510', '0.2834',\n",
       "       '0.2825', '0.4256', '0.2641', '0.1386', '0.1051', '0.1343',\n",
       "       '0.0383', '0.0324', '0.0232', '0.0027', '0.0065', '0.0159',\n",
       "       '0.0072', '0.0167', '0.0180', '0.0084', '0.0090', '0.0032'],\n",
       "      dtype=object)"
      ]
     },
     "execution_count": 24,
     "metadata": {},
     "output_type": "execute_result"
    }
   ],
   "source": [
    "cols"
   ]
  },
  {
   "cell_type": "code",
   "execution_count": 25,
   "metadata": {},
   "outputs": [
    {
     "data": {
      "text/html": [
       "<div>\n",
       "<style scoped>\n",
       "    .dataframe tbody tr th:only-of-type {\n",
       "        vertical-align: middle;\n",
       "    }\n",
       "\n",
       "    .dataframe tbody tr th {\n",
       "        vertical-align: top;\n",
       "    }\n",
       "\n",
       "    .dataframe thead th {\n",
       "        text-align: right;\n",
       "    }\n",
       "</style>\n",
       "<table border=\"1\" class=\"dataframe\">\n",
       "  <thead>\n",
       "    <tr style=\"text-align: right;\">\n",
       "      <th></th>\n",
       "      <th>0.0200</th>\n",
       "      <th>0.0371</th>\n",
       "      <th>0.0428</th>\n",
       "      <th>0.0207</th>\n",
       "      <th>0.0954</th>\n",
       "      <th>0.0986</th>\n",
       "      <th>0.1539</th>\n",
       "      <th>0.1601</th>\n",
       "      <th>0.3109</th>\n",
       "      <th>0.2111</th>\n",
       "      <th>...</th>\n",
       "      <th>0.0232</th>\n",
       "      <th>0.0027</th>\n",
       "      <th>0.0065</th>\n",
       "      <th>0.0159</th>\n",
       "      <th>0.0072</th>\n",
       "      <th>0.0167</th>\n",
       "      <th>0.0180</th>\n",
       "      <th>0.0084</th>\n",
       "      <th>0.0090</th>\n",
       "      <th>0.0032</th>\n",
       "    </tr>\n",
       "  </thead>\n",
       "  <tbody>\n",
       "    <tr>\n",
       "      <th>0</th>\n",
       "      <td>0.700189</td>\n",
       "      <td>0.420421</td>\n",
       "      <td>1.052950</td>\n",
       "      <td>0.319501</td>\n",
       "      <td>0.777810</td>\n",
       "      <td>2.600518</td>\n",
       "      <td>1.522475</td>\n",
       "      <td>2.506911</td>\n",
       "      <td>1.324632</td>\n",
       "      <td>0.587392</td>\n",
       "      <td>...</td>\n",
       "      <td>-0.294569</td>\n",
       "      <td>-0.528057</td>\n",
       "      <td>-0.259343</td>\n",
       "      <td>-0.838780</td>\n",
       "      <td>0.014044</td>\n",
       "      <td>1.913786</td>\n",
       "      <td>1.084838</td>\n",
       "      <td>-0.470938</td>\n",
       "      <td>-0.442688</td>\n",
       "      <td>-0.422461</td>\n",
       "    </tr>\n",
       "    <tr>\n",
       "      <th>1</th>\n",
       "      <td>-0.130894</td>\n",
       "      <td>0.599427</td>\n",
       "      <td>1.719130</td>\n",
       "      <td>1.167351</td>\n",
       "      <td>0.401466</td>\n",
       "      <td>2.087862</td>\n",
       "      <td>1.967839</td>\n",
       "      <td>2.847551</td>\n",
       "      <td>3.240336</td>\n",
       "      <td>3.058831</td>\n",
       "      <td>...</td>\n",
       "      <td>-1.061350</td>\n",
       "      <td>1.012809</td>\n",
       "      <td>0.832198</td>\n",
       "      <td>-0.194293</td>\n",
       "      <td>1.227682</td>\n",
       "      <td>2.842696</td>\n",
       "      <td>4.150049</td>\n",
       "      <td>1.306561</td>\n",
       "      <td>0.252998</td>\n",
       "      <td>0.254053</td>\n",
       "    </tr>\n",
       "    <tr>\n",
       "      <th>2</th>\n",
       "      <td>-0.835792</td>\n",
       "      <td>-0.647546</td>\n",
       "      <td>0.480451</td>\n",
       "      <td>-0.722021</td>\n",
       "      <td>-0.983262</td>\n",
       "      <td>-1.147115</td>\n",
       "      <td>-0.190961</td>\n",
       "      <td>-0.083126</td>\n",
       "      <td>-0.996071</td>\n",
       "      <td>-0.608898</td>\n",
       "      <td>...</td>\n",
       "      <td>0.672242</td>\n",
       "      <td>-0.142840</td>\n",
       "      <td>-1.010664</td>\n",
       "      <td>0.559893</td>\n",
       "      <td>-0.112965</td>\n",
       "      <td>-0.154353</td>\n",
       "      <td>-0.482599</td>\n",
       "      <td>-0.548221</td>\n",
       "      <td>-0.636834</td>\n",
       "      <td>1.030055</td>\n",
       "    </tr>\n",
       "    <tr>\n",
       "      <th>3</th>\n",
       "      <td>2.044717</td>\n",
       "      <td>0.854283</td>\n",
       "      <td>0.110929</td>\n",
       "      <td>-0.315311</td>\n",
       "      <td>-0.289998</td>\n",
       "      <td>-0.671681</td>\n",
       "      <td>-0.011196</td>\n",
       "      <td>1.315846</td>\n",
       "      <td>1.516965</td>\n",
       "      <td>1.768058</td>\n",
       "      <td>...</td>\n",
       "      <td>-0.036197</td>\n",
       "      <td>-1.079853</td>\n",
       "      <td>-0.755498</td>\n",
       "      <td>-0.057168</td>\n",
       "      <td>0.239837</td>\n",
       "      <td>-1.170895</td>\n",
       "      <td>-0.099448</td>\n",
       "      <td>-0.486395</td>\n",
       "      <td>0.447143</td>\n",
       "      <td>0.572413</td>\n",
       "    </tr>\n",
       "    <tr>\n",
       "      <th>4</th>\n",
       "      <td>-0.026465</td>\n",
       "      <td>0.208041</td>\n",
       "      <td>-0.419933</td>\n",
       "      <td>-0.788730</td>\n",
       "      <td>-0.660939</td>\n",
       "      <td>-0.094732</td>\n",
       "      <td>-0.024152</td>\n",
       "      <td>0.571138</td>\n",
       "      <td>0.280782</td>\n",
       "      <td>0.711633</td>\n",
       "      <td>...</td>\n",
       "      <td>-0.469595</td>\n",
       "      <td>-0.934096</td>\n",
       "      <td>-1.322533</td>\n",
       "      <td>-0.975905</td>\n",
       "      <td>-1.129034</td>\n",
       "      <td>0.126073</td>\n",
       "      <td>-0.360687</td>\n",
       "      <td>-0.810982</td>\n",
       "      <td>-0.458867</td>\n",
       "      <td>-0.064306</td>\n",
       "    </tr>\n",
       "    <tr>\n",
       "      <th>...</th>\n",
       "      <td>...</td>\n",
       "      <td>...</td>\n",
       "      <td>...</td>\n",
       "      <td>...</td>\n",
       "      <td>...</td>\n",
       "      <td>...</td>\n",
       "      <td>...</td>\n",
       "      <td>...</td>\n",
       "      <td>...</td>\n",
       "      <td>...</td>\n",
       "      <td>...</td>\n",
       "      <td>...</td>\n",
       "      <td>...</td>\n",
       "      <td>...</td>\n",
       "      <td>...</td>\n",
       "      <td>...</td>\n",
       "      <td>...</td>\n",
       "      <td>...</td>\n",
       "      <td>...</td>\n",
       "      <td>...</td>\n",
       "      <td>...</td>\n",
       "    </tr>\n",
       "    <tr>\n",
       "      <th>202</th>\n",
       "      <td>-0.457236</td>\n",
       "      <td>-0.116596</td>\n",
       "      <td>-0.703580</td>\n",
       "      <td>-0.782275</td>\n",
       "      <td>-0.644733</td>\n",
       "      <td>0.988106</td>\n",
       "      <td>1.315179</td>\n",
       "      <td>0.407865</td>\n",
       "      <td>0.469725</td>\n",
       "      <td>0.447527</td>\n",
       "      <td>...</td>\n",
       "      <td>0.355528</td>\n",
       "      <td>-0.194897</td>\n",
       "      <td>-0.131760</td>\n",
       "      <td>1.231805</td>\n",
       "      <td>-0.846792</td>\n",
       "      <td>0.336392</td>\n",
       "      <td>-0.221359</td>\n",
       "      <td>0.549192</td>\n",
       "      <td>1.838517</td>\n",
       "      <td>1.825954</td>\n",
       "    </tr>\n",
       "    <tr>\n",
       "      <th>203</th>\n",
       "      <td>0.134531</td>\n",
       "      <td>-0.859926</td>\n",
       "      <td>-0.365285</td>\n",
       "      <td>0.050513</td>\n",
       "      <td>0.016119</td>\n",
       "      <td>-0.148874</td>\n",
       "      <td>-0.365867</td>\n",
       "      <td>-0.386178</td>\n",
       "      <td>-0.630046</td>\n",
       "      <td>0.053227</td>\n",
       "      <td>...</td>\n",
       "      <td>-0.911327</td>\n",
       "      <td>-0.767516</td>\n",
       "      <td>-0.202639</td>\n",
       "      <td>0.354206</td>\n",
       "      <td>-0.423430</td>\n",
       "      <td>-0.329619</td>\n",
       "      <td>-0.761255</td>\n",
       "      <td>-0.733699</td>\n",
       "      <td>-0.280901</td>\n",
       "      <td>0.035181</td>\n",
       "    </tr>\n",
       "    <tr>\n",
       "      <th>204</th>\n",
       "      <td>1.000424</td>\n",
       "      <td>0.159497</td>\n",
       "      <td>-0.672353</td>\n",
       "      <td>-0.534806</td>\n",
       "      <td>-0.720362</td>\n",
       "      <td>0.211508</td>\n",
       "      <td>0.066541</td>\n",
       "      <td>-0.198238</td>\n",
       "      <td>-0.436866</td>\n",
       "      <td>0.332213</td>\n",
       "      <td>...</td>\n",
       "      <td>-0.044532</td>\n",
       "      <td>0.263199</td>\n",
       "      <td>-1.109895</td>\n",
       "      <td>-0.797643</td>\n",
       "      <td>-0.437542</td>\n",
       "      <td>0.126073</td>\n",
       "      <td>1.084838</td>\n",
       "      <td>0.904691</td>\n",
       "      <td>-0.038219</td>\n",
       "      <td>-0.681128</td>\n",
       "    </tr>\n",
       "    <tr>\n",
       "      <th>205</th>\n",
       "      <td>0.047506</td>\n",
       "      <td>-0.095358</td>\n",
       "      <td>0.134350</td>\n",
       "      <td>0.145196</td>\n",
       "      <td>-1.051689</td>\n",
       "      <td>0.521132</td>\n",
       "      <td>0.403398</td>\n",
       "      <td>-0.262842</td>\n",
       "      <td>0.145217</td>\n",
       "      <td>0.202020</td>\n",
       "      <td>...</td>\n",
       "      <td>-0.986338</td>\n",
       "      <td>-0.507234</td>\n",
       "      <td>-0.868905</td>\n",
       "      <td>0.230794</td>\n",
       "      <td>-0.804456</td>\n",
       "      <td>-0.820363</td>\n",
       "      <td>-0.761255</td>\n",
       "      <td>-0.007243</td>\n",
       "      <td>-0.701549</td>\n",
       "      <td>-0.342871</td>\n",
       "    </tr>\n",
       "    <tr>\n",
       "      <th>206</th>\n",
       "      <td>-0.139596</td>\n",
       "      <td>-0.065018</td>\n",
       "      <td>-0.786852</td>\n",
       "      <td>-0.577844</td>\n",
       "      <td>-0.967056</td>\n",
       "      <td>-1.197873</td>\n",
       "      <td>-0.908401</td>\n",
       "      <td>0.062527</td>\n",
       "      <td>0.058794</td>\n",
       "      <td>0.202020</td>\n",
       "      <td>...</td>\n",
       "      <td>0.172167</td>\n",
       "      <td>0.117441</td>\n",
       "      <td>0.307692</td>\n",
       "      <td>-0.852493</td>\n",
       "      <td>-0.762120</td>\n",
       "      <td>-0.364672</td>\n",
       "      <td>-0.656759</td>\n",
       "      <td>-0.671873</td>\n",
       "      <td>-0.297080</td>\n",
       "      <td>0.990260</td>\n",
       "    </tr>\n",
       "  </tbody>\n",
       "</table>\n",
       "<p>207 rows × 60 columns</p>\n",
       "</div>"
      ],
      "text/plain": [
       "       0.0200    0.0371    0.0428    0.0207    0.0954    0.0986    0.1539  \\\n",
       "0    0.700189  0.420421  1.052950  0.319501  0.777810  2.600518  1.522475   \n",
       "1   -0.130894  0.599427  1.719130  1.167351  0.401466  2.087862  1.967839   \n",
       "2   -0.835792 -0.647546  0.480451 -0.722021 -0.983262 -1.147115 -0.190961   \n",
       "3    2.044717  0.854283  0.110929 -0.315311 -0.289998 -0.671681 -0.011196   \n",
       "4   -0.026465  0.208041 -0.419933 -0.788730 -0.660939 -0.094732 -0.024152   \n",
       "..        ...       ...       ...       ...       ...       ...       ...   \n",
       "202 -0.457236 -0.116596 -0.703580 -0.782275 -0.644733  0.988106  1.315179   \n",
       "203  0.134531 -0.859926 -0.365285  0.050513  0.016119 -0.148874 -0.365867   \n",
       "204  1.000424  0.159497 -0.672353 -0.534806 -0.720362  0.211508  0.066541   \n",
       "205  0.047506 -0.095358  0.134350  0.145196 -1.051689  0.521132  0.403398   \n",
       "206 -0.139596 -0.065018 -0.786852 -0.577844 -0.967056 -1.197873 -0.908401   \n",
       "\n",
       "       0.1601    0.3109    0.2111  ...    0.0232    0.0027    0.0065  \\\n",
       "0    2.506911  1.324632  0.587392  ... -0.294569 -0.528057 -0.259343   \n",
       "1    2.847551  3.240336  3.058831  ... -1.061350  1.012809  0.832198   \n",
       "2   -0.083126 -0.996071 -0.608898  ...  0.672242 -0.142840 -1.010664   \n",
       "3    1.315846  1.516965  1.768058  ... -0.036197 -1.079853 -0.755498   \n",
       "4    0.571138  0.280782  0.711633  ... -0.469595 -0.934096 -1.322533   \n",
       "..        ...       ...       ...  ...       ...       ...       ...   \n",
       "202  0.407865  0.469725  0.447527  ...  0.355528 -0.194897 -0.131760   \n",
       "203 -0.386178 -0.630046  0.053227  ... -0.911327 -0.767516 -0.202639   \n",
       "204 -0.198238 -0.436866  0.332213  ... -0.044532  0.263199 -1.109895   \n",
       "205 -0.262842  0.145217  0.202020  ... -0.986338 -0.507234 -0.868905   \n",
       "206  0.062527  0.058794  0.202020  ...  0.172167  0.117441  0.307692   \n",
       "\n",
       "       0.0159    0.0072    0.0167    0.0180    0.0084    0.0090    0.0032  \n",
       "0   -0.838780  0.014044  1.913786  1.084838 -0.470938 -0.442688 -0.422461  \n",
       "1   -0.194293  1.227682  2.842696  4.150049  1.306561  0.252998  0.254053  \n",
       "2    0.559893 -0.112965 -0.154353 -0.482599 -0.548221 -0.636834  1.030055  \n",
       "3   -0.057168  0.239837 -1.170895 -0.099448 -0.486395  0.447143  0.572413  \n",
       "4   -0.975905 -1.129034  0.126073 -0.360687 -0.810982 -0.458867 -0.064306  \n",
       "..        ...       ...       ...       ...       ...       ...       ...  \n",
       "202  1.231805 -0.846792  0.336392 -0.221359  0.549192  1.838517  1.825954  \n",
       "203  0.354206 -0.423430 -0.329619 -0.761255 -0.733699 -0.280901  0.035181  \n",
       "204 -0.797643 -0.437542  0.126073  1.084838  0.904691 -0.038219 -0.681128  \n",
       "205  0.230794 -0.804456 -0.820363 -0.761255 -0.007243 -0.701549 -0.342871  \n",
       "206 -0.852493 -0.762120 -0.364672 -0.656759 -0.671873 -0.297080  0.990260  \n",
       "\n",
       "[207 rows x 60 columns]"
      ]
     },
     "execution_count": 25,
     "metadata": {},
     "output_type": "execute_result"
    }
   ],
   "source": [
    "x_pre = pd.DataFrame(x_pre, columns=cols)\n",
    "x_pre"
   ]
  },
  {
   "cell_type": "markdown",
   "metadata": {},
   "source": [
    "### Seperating Training and Testing Data"
   ]
  },
  {
   "cell_type": "code",
   "execution_count": 26,
   "metadata": {},
   "outputs": [],
   "source": [
    "from sklearn.model_selection import train_test_split\n",
    "xtrain,xtest,ytrain,ytest = train_test_split(x_pre, y, test_size= 0.3 , random_state= 56)"
   ]
  },
  {
   "cell_type": "code",
   "execution_count": 27,
   "metadata": {},
   "outputs": [
    {
     "data": {
      "text/plain": [
       "(144, 60)"
      ]
     },
     "execution_count": 27,
     "metadata": {},
     "output_type": "execute_result"
    }
   ],
   "source": [
    "xtrain.shape"
   ]
  },
  {
   "cell_type": "code",
   "execution_count": 28,
   "metadata": {},
   "outputs": [
    {
     "data": {
      "text/plain": [
       "(63, 60)"
      ]
     },
     "execution_count": 28,
     "metadata": {},
     "output_type": "execute_result"
    }
   ],
   "source": [
    "xtest.shape"
   ]
  },
  {
   "cell_type": "code",
   "execution_count": 29,
   "metadata": {},
   "outputs": [
    {
     "data": {
      "text/plain": [
       "(144, 1)"
      ]
     },
     "execution_count": 29,
     "metadata": {},
     "output_type": "execute_result"
    }
   ],
   "source": [
    "ytrain.shape"
   ]
  },
  {
   "cell_type": "code",
   "execution_count": 30,
   "metadata": {},
   "outputs": [
    {
     "data": {
      "text/plain": [
       "(63, 1)"
      ]
     },
     "execution_count": 30,
     "metadata": {},
     "output_type": "execute_result"
    }
   ],
   "source": [
    "ytest.shape"
   ]
  },
  {
   "cell_type": "markdown",
   "metadata": {},
   "source": [
    "### Create Logistic Regression model"
   ]
  },
  {
   "cell_type": "code",
   "execution_count": 31,
   "metadata": {},
   "outputs": [
    {
     "data": {
      "text/html": [
       "<style>#sk-container-id-1 {color: black;}#sk-container-id-1 pre{padding: 0;}#sk-container-id-1 div.sk-toggleable {background-color: white;}#sk-container-id-1 label.sk-toggleable__label {cursor: pointer;display: block;width: 100%;margin-bottom: 0;padding: 0.3em;box-sizing: border-box;text-align: center;}#sk-container-id-1 label.sk-toggleable__label-arrow:before {content: \"▸\";float: left;margin-right: 0.25em;color: #696969;}#sk-container-id-1 label.sk-toggleable__label-arrow:hover:before {color: black;}#sk-container-id-1 div.sk-estimator:hover label.sk-toggleable__label-arrow:before {color: black;}#sk-container-id-1 div.sk-toggleable__content {max-height: 0;max-width: 0;overflow: hidden;text-align: left;background-color: #f0f8ff;}#sk-container-id-1 div.sk-toggleable__content pre {margin: 0.2em;color: black;border-radius: 0.25em;background-color: #f0f8ff;}#sk-container-id-1 input.sk-toggleable__control:checked~div.sk-toggleable__content {max-height: 200px;max-width: 100%;overflow: auto;}#sk-container-id-1 input.sk-toggleable__control:checked~label.sk-toggleable__label-arrow:before {content: \"▾\";}#sk-container-id-1 div.sk-estimator input.sk-toggleable__control:checked~label.sk-toggleable__label {background-color: #d4ebff;}#sk-container-id-1 div.sk-label input.sk-toggleable__control:checked~label.sk-toggleable__label {background-color: #d4ebff;}#sk-container-id-1 input.sk-hidden--visually {border: 0;clip: rect(1px 1px 1px 1px);clip: rect(1px, 1px, 1px, 1px);height: 1px;margin: -1px;overflow: hidden;padding: 0;position: absolute;width: 1px;}#sk-container-id-1 div.sk-estimator {font-family: monospace;background-color: #f0f8ff;border: 1px dotted black;border-radius: 0.25em;box-sizing: border-box;margin-bottom: 0.5em;}#sk-container-id-1 div.sk-estimator:hover {background-color: #d4ebff;}#sk-container-id-1 div.sk-parallel-item::after {content: \"\";width: 100%;border-bottom: 1px solid gray;flex-grow: 1;}#sk-container-id-1 div.sk-label:hover label.sk-toggleable__label {background-color: #d4ebff;}#sk-container-id-1 div.sk-serial::before {content: \"\";position: absolute;border-left: 1px solid gray;box-sizing: border-box;top: 0;bottom: 0;left: 50%;z-index: 0;}#sk-container-id-1 div.sk-serial {display: flex;flex-direction: column;align-items: center;background-color: white;padding-right: 0.2em;padding-left: 0.2em;position: relative;}#sk-container-id-1 div.sk-item {position: relative;z-index: 1;}#sk-container-id-1 div.sk-parallel {display: flex;align-items: stretch;justify-content: center;background-color: white;position: relative;}#sk-container-id-1 div.sk-item::before, #sk-container-id-1 div.sk-parallel-item::before {content: \"\";position: absolute;border-left: 1px solid gray;box-sizing: border-box;top: 0;bottom: 0;left: 50%;z-index: -1;}#sk-container-id-1 div.sk-parallel-item {display: flex;flex-direction: column;z-index: 1;position: relative;background-color: white;}#sk-container-id-1 div.sk-parallel-item:first-child::after {align-self: flex-end;width: 50%;}#sk-container-id-1 div.sk-parallel-item:last-child::after {align-self: flex-start;width: 50%;}#sk-container-id-1 div.sk-parallel-item:only-child::after {width: 0;}#sk-container-id-1 div.sk-dashed-wrapped {border: 1px dashed gray;margin: 0 0.4em 0.5em 0.4em;box-sizing: border-box;padding-bottom: 0.4em;background-color: white;}#sk-container-id-1 div.sk-label label {font-family: monospace;font-weight: bold;display: inline-block;line-height: 1.2em;}#sk-container-id-1 div.sk-label-container {text-align: center;}#sk-container-id-1 div.sk-container {/* jupyter's `normalize.less` sets `[hidden] { display: none; }` but bootstrap.min.css set `[hidden] { display: none !important; }` so we also need the `!important` here to be able to override the default hidden behavior on the sphinx rendered scikit-learn.org. See: https://github.com/scikit-learn/scikit-learn/issues/21755 */display: inline-block !important;position: relative;}#sk-container-id-1 div.sk-text-repr-fallback {display: none;}</style><div id=\"sk-container-id-1\" class=\"sk-top-container\"><div class=\"sk-text-repr-fallback\"><pre>LogisticRegression()</pre><b>In a Jupyter environment, please rerun this cell to show the HTML representation or trust the notebook. <br />On GitHub, the HTML representation is unable to render, please try loading this page with nbviewer.org.</b></div><div class=\"sk-container\" hidden><div class=\"sk-item\"><div class=\"sk-estimator sk-toggleable\"><input class=\"sk-toggleable__control sk-hidden--visually\" id=\"sk-estimator-id-1\" type=\"checkbox\" checked><label for=\"sk-estimator-id-1\" class=\"sk-toggleable__label sk-toggleable__label-arrow\">LogisticRegression</label><div class=\"sk-toggleable__content\"><pre>LogisticRegression()</pre></div></div></div></div></div>"
      ],
      "text/plain": [
       "LogisticRegression()"
      ]
     },
     "execution_count": 31,
     "metadata": {},
     "output_type": "execute_result"
    }
   ],
   "source": [
    "from sklearn.linear_model import LogisticRegression\n",
    "lg = LogisticRegression()\n",
    "lg.fit(xtrain,ytrain)"
   ]
  },
  {
   "cell_type": "code",
   "execution_count": 33,
   "metadata": {},
   "outputs": [
    {
     "data": {
      "text/plain": [
       "array([-0.77242845])"
      ]
     },
     "execution_count": 33,
     "metadata": {},
     "output_type": "execute_result"
    }
   ],
   "source": [
    "lg.intercept_"
   ]
  },
  {
   "cell_type": "code",
   "execution_count": 34,
   "metadata": {},
   "outputs": [
    {
     "data": {
      "text/plain": [
       "array([[-0.88067371, -0.41044473,  0.25194464, -0.30620654, -0.17561912,\n",
       "         0.20873231,  0.45546867,  0.76101139, -0.47415128, -0.80249647,\n",
       "        -0.81812899, -0.8084618 , -0.20340473,  0.32856221, -0.08673175,\n",
       "         0.58578244,  0.50438518, -0.04559453, -0.06834638, -0.8985793 ,\n",
       "        -0.34179421, -0.14158888, -0.4786343 , -0.49564263,  0.35492114,\n",
       "         0.04936126, -0.25081928, -0.06707584, -0.45616985, -0.39641798,\n",
       "         1.33160989, -0.14434707, -0.13264316,  0.26392916,  0.12653681,\n",
       "         0.76910617,  0.50352414,  0.13465413, -0.19030999,  0.35526761,\n",
       "         0.13012451, -0.19988226, -0.49131882, -0.84974149, -0.54703311,\n",
       "        -0.07342104,  0.26588774, -0.36579832, -1.06454425,  0.60228457,\n",
       "        -0.86136863, -0.39430173,  0.22428368, -0.58590287,  0.57481533,\n",
       "        -0.48954879,  0.58902049,  0.13913323, -0.15896169,  0.53547571]])"
      ]
     },
     "execution_count": 34,
     "metadata": {},
     "output_type": "execute_result"
    }
   ],
   "source": [
    "lg.coef_"
   ]
  },
  {
   "cell_type": "markdown",
   "metadata": {},
   "source": [
    "### Predict training and testing data"
   ]
  },
  {
   "cell_type": "code",
   "execution_count": 35,
   "metadata": {},
   "outputs": [
    {
     "data": {
      "text/plain": [
       "array([1, 0, 0, 0, 0, 0, 1, 0, 1, 0, 0, 1, 1, 0, 0, 0, 0, 1, 1, 0, 0, 0,\n",
       "       1, 1, 0, 1, 1, 1, 0, 1, 1, 0, 0, 0, 1, 0, 0, 1, 0, 1, 0, 1, 0, 0,\n",
       "       1, 0, 1, 0, 0, 0, 0, 1, 0, 0, 1, 0, 0, 0, 1, 0, 1, 0, 0, 1, 0, 1,\n",
       "       0, 0, 0, 1, 0, 1, 1, 0, 1, 0, 1, 0, 0, 1, 1, 0, 1, 0, 0, 0, 0, 1,\n",
       "       0, 0, 0, 0, 0, 0, 1, 0, 1, 0, 1, 1, 0, 0, 1, 1, 1, 1, 1, 1, 1, 1,\n",
       "       1, 0, 1, 0, 0, 0, 1, 0, 0, 0, 1, 1, 1, 0, 0, 0, 1, 1, 0, 0, 0, 0,\n",
       "       1, 1, 0, 0, 1, 1, 0, 0, 0, 0, 0, 1])"
      ]
     },
     "execution_count": 35,
     "metadata": {},
     "output_type": "execute_result"
    }
   ],
   "source": [
    "ypred_tr= lg.predict(xtrain)\n",
    "ypred_tr"
   ]
  },
  {
   "cell_type": "code",
   "execution_count": 37,
   "metadata": {},
   "outputs": [
    {
     "data": {
      "text/html": [
       "<div>\n",
       "<style scoped>\n",
       "    .dataframe tbody tr th:only-of-type {\n",
       "        vertical-align: middle;\n",
       "    }\n",
       "\n",
       "    .dataframe tbody tr th {\n",
       "        vertical-align: top;\n",
       "    }\n",
       "\n",
       "    .dataframe thead th {\n",
       "        text-align: right;\n",
       "    }\n",
       "</style>\n",
       "<table border=\"1\" class=\"dataframe\">\n",
       "  <thead>\n",
       "    <tr style=\"text-align: right;\">\n",
       "      <th></th>\n",
       "      <th>R</th>\n",
       "    </tr>\n",
       "  </thead>\n",
       "  <tbody>\n",
       "    <tr>\n",
       "      <th>70</th>\n",
       "      <td>1</td>\n",
       "    </tr>\n",
       "    <tr>\n",
       "      <th>130</th>\n",
       "      <td>0</td>\n",
       "    </tr>\n",
       "    <tr>\n",
       "      <th>202</th>\n",
       "      <td>0</td>\n",
       "    </tr>\n",
       "    <tr>\n",
       "      <th>120</th>\n",
       "      <td>0</td>\n",
       "    </tr>\n",
       "    <tr>\n",
       "      <th>134</th>\n",
       "      <td>0</td>\n",
       "    </tr>\n",
       "  </tbody>\n",
       "</table>\n",
       "</div>"
      ],
      "text/plain": [
       "     R\n",
       "70   1\n",
       "130  0\n",
       "202  0\n",
       "120  0\n",
       "134  0"
      ]
     },
     "execution_count": 37,
     "metadata": {},
     "output_type": "execute_result"
    }
   ],
   "source": [
    "ytrain.head()"
   ]
  },
  {
   "cell_type": "code",
   "execution_count": 38,
   "metadata": {},
   "outputs": [
    {
     "data": {
      "text/plain": [
       "array([0, 0, 1, 0, 1, 0, 1, 0, 1, 0, 1, 0, 1, 1, 1, 0, 1, 0, 0, 1, 1, 1,\n",
       "       0, 0, 0, 0, 0, 1, 0, 1, 1, 0, 0, 1, 1, 1, 0, 0, 1, 0, 1, 0, 0, 1,\n",
       "       0, 0, 1, 1, 0, 0, 1, 1, 1, 0, 1, 0, 1, 1, 1, 0, 1, 0, 0])"
      ]
     },
     "execution_count": 38,
     "metadata": {},
     "output_type": "execute_result"
    }
   ],
   "source": [
    "ypred_ts= lg.predict(xtest)\n",
    "ypred_ts"
   ]
  },
  {
   "cell_type": "code",
   "execution_count": 40,
   "metadata": {},
   "outputs": [
    {
     "data": {
      "text/html": [
       "<div>\n",
       "<style scoped>\n",
       "    .dataframe tbody tr th:only-of-type {\n",
       "        vertical-align: middle;\n",
       "    }\n",
       "\n",
       "    .dataframe tbody tr th {\n",
       "        vertical-align: top;\n",
       "    }\n",
       "\n",
       "    .dataframe thead th {\n",
       "        text-align: right;\n",
       "    }\n",
       "</style>\n",
       "<table border=\"1\" class=\"dataframe\">\n",
       "  <thead>\n",
       "    <tr style=\"text-align: right;\">\n",
       "      <th></th>\n",
       "      <th>R</th>\n",
       "    </tr>\n",
       "  </thead>\n",
       "  <tbody>\n",
       "    <tr>\n",
       "      <th>99</th>\n",
       "      <td>0</td>\n",
       "    </tr>\n",
       "    <tr>\n",
       "      <th>92</th>\n",
       "      <td>1</td>\n",
       "    </tr>\n",
       "    <tr>\n",
       "      <th>63</th>\n",
       "      <td>1</td>\n",
       "    </tr>\n",
       "    <tr>\n",
       "      <th>45</th>\n",
       "      <td>1</td>\n",
       "    </tr>\n",
       "    <tr>\n",
       "      <th>68</th>\n",
       "      <td>1</td>\n",
       "    </tr>\n",
       "  </tbody>\n",
       "</table>\n",
       "</div>"
      ],
      "text/plain": [
       "    R\n",
       "99  0\n",
       "92  1\n",
       "63  1\n",
       "45  1\n",
       "68  1"
      ]
     },
     "execution_count": 40,
     "metadata": {},
     "output_type": "execute_result"
    }
   ],
   "source": [
    "ytest.head()"
   ]
  },
  {
   "cell_type": "code",
   "execution_count": 41,
   "metadata": {},
   "outputs": [
    {
     "data": {
      "text/plain": [
       "1.0"
      ]
     },
     "execution_count": 41,
     "metadata": {},
     "output_type": "execute_result"
    }
   ],
   "source": [
    "lg.score(xtrain,ypred_tr)"
   ]
  },
  {
   "cell_type": "code",
   "execution_count": 42,
   "metadata": {},
   "outputs": [
    {
     "data": {
      "text/plain": [
       "1.0"
      ]
     },
     "execution_count": 42,
     "metadata": {},
     "output_type": "execute_result"
    }
   ],
   "source": [
    "lg.score(xtest,ypred_ts)"
   ]
  },
  {
   "cell_type": "code",
   "execution_count": 43,
   "metadata": {},
   "outputs": [],
   "source": [
    "from sklearn.metrics import accuracy_score\n",
    "tr_acc= accuracy_score(ytrain,ypred_tr)\n",
    "ts_acc= accuracy_score(ytest,ypred_ts)"
   ]
  },
  {
   "cell_type": "code",
   "execution_count": 50,
   "metadata": {},
   "outputs": [
    {
     "name": "stdout",
     "output_type": "stream",
     "text": [
      "training accuracy =0.9583333333333334\n",
      "testing accuracy = 0.7619047619047619\n"
     ]
    }
   ],
   "source": [
    "print(f'training accuracy ={tr_acc}')\n",
    "      \n",
    "print(f'testing accuracy = {ts_acc}')"
   ]
  },
  {
   "cell_type": "markdown",
   "metadata": {},
   "source": [
    "### Confusion metrics for test Data"
   ]
  },
  {
   "cell_type": "code",
   "execution_count": 51,
   "metadata": {},
   "outputs": [
    {
     "data": {
      "text/plain": [
       "<sklearn.metrics._plot.confusion_matrix.ConfusionMatrixDisplay at 0x1ff4f0412d0>"
      ]
     },
     "execution_count": 51,
     "metadata": {},
     "output_type": "execute_result"
    },
    {
     "data": {
      "image/png": "[encoded data removed]",
      "text/plain": [
       "<Figure size 640x480 with 2 Axes>"
      ]
     },
     "metadata": {},
     "output_type": "display_data"
    }
   ],
   "source": [
    "from sklearn.metrics import confusion_matrix, ConfusionMatrixDisplay\n",
    "cf = confusion_matrix(ytest,ypred_ts)\n",
    "cfd = ConfusionMatrixDisplay(cf,display_labels=lg.classes_)\n",
    "cfd.plot()"
   ]
  },
  {
   "cell_type": "code",
   "execution_count": 52,
   "metadata": {},
   "outputs": [
    {
     "data": {
      "text/plain": [
       "0.7619047619047619"
      ]
     },
     "execution_count": 52,
     "metadata": {},
     "output_type": "execute_result"
    }
   ],
   "source": [
    "# Acuuracy\n",
    "(23+25)/(23+25+6+9)"
   ]
  },
  {
   "cell_type": "markdown",
   "metadata": {},
   "source": [
    "### Print classification report"
   ]
  },
  {
   "cell_type": "code",
   "execution_count": 53,
   "metadata": {},
   "outputs": [],
   "source": [
    "from sklearn.metrics import classification_report"
   ]
  },
  {
   "cell_type": "code",
   "execution_count": 54,
   "metadata": {},
   "outputs": [
    {
     "name": "stdout",
     "output_type": "stream",
     "text": [
      "              precision    recall  f1-score   support\n",
      "\n",
      "           0       0.72      0.79      0.75        29\n",
      "           1       0.81      0.74      0.77        34\n",
      "\n",
      "    accuracy                           0.76        63\n",
      "   macro avg       0.76      0.76      0.76        63\n",
      "weighted avg       0.77      0.76      0.76        63\n",
      "\n"
     ]
    }
   ],
   "source": [
    "print(classification_report(ytest,ypred_ts))"
   ]
  },
  {
   "cell_type": "code",
   "execution_count": 55,
   "metadata": {},
   "outputs": [
    {
     "data": {
      "text/plain": [
       "array([[9.39372702e-01, 6.06272982e-02],\n",
       "       [7.38094471e-01, 2.61905529e-01],\n",
       "       [3.63404114e-05, 9.99963660e-01],\n",
       "       [7.45832682e-01, 2.54167318e-01],\n",
       "       [7.09708271e-03, 9.92902917e-01],\n",
       "       [9.21018230e-01, 7.89817697e-02],\n",
       "       [6.23803581e-05, 9.99937620e-01],\n",
       "       [9.98145699e-01, 1.85430132e-03],\n",
       "       [1.15961054e-02, 9.88403895e-01],\n",
       "       [8.67646787e-01, 1.32353213e-01],\n",
       "       [5.57426205e-02, 9.44257379e-01],\n",
       "       [9.89557799e-01, 1.04422008e-02],\n",
       "       [8.86975330e-05, 9.99911302e-01],\n",
       "       [3.36647688e-01, 6.63352312e-01],\n",
       "       [2.04756511e-03, 9.97952435e-01],\n",
       "       [9.45010465e-01, 5.49895354e-02],\n",
       "       [5.66489158e-02, 9.43351084e-01],\n",
       "       [9.76659940e-01, 2.33400598e-02],\n",
       "       [6.60678555e-01, 3.39321445e-01],\n",
       "       [7.78660839e-02, 9.22133916e-01],\n",
       "       [2.43910370e-01, 7.56089630e-01],\n",
       "       [4.57207945e-02, 9.54279205e-01],\n",
       "       [6.83369604e-01, 3.16630396e-01],\n",
       "       [9.99999697e-01, 3.02538876e-07],\n",
       "       [5.76958086e-01, 4.23041914e-01],\n",
       "       [9.99225043e-01, 7.74956985e-04],\n",
       "       [9.99104641e-01, 8.95358949e-04],\n",
       "       [1.75470801e-02, 9.82452920e-01],\n",
       "       [7.27627111e-01, 2.72372889e-01],\n",
       "       [6.73275713e-02, 9.32672429e-01],\n",
       "       [3.51741923e-01, 6.48258077e-01],\n",
       "       [9.94839450e-01, 5.16055041e-03],\n",
       "       [7.45774928e-01, 2.54225072e-01],\n",
       "       [4.11141412e-01, 5.88858588e-01],\n",
       "       [1.33360074e-03, 9.98666399e-01],\n",
       "       [4.35555762e-03, 9.95644442e-01],\n",
       "       [9.84809939e-01, 1.51900605e-02],\n",
       "       [9.99975833e-01, 2.41666848e-05],\n",
       "       [1.68898252e-01, 8.31101748e-01],\n",
       "       [6.17357228e-01, 3.82642772e-01],\n",
       "       [2.06380991e-04, 9.99793619e-01],\n",
       "       [9.40328635e-01, 5.96713651e-02],\n",
       "       [8.75164170e-01, 1.24835830e-01],\n",
       "       [3.55154481e-04, 9.99644846e-01],\n",
       "       [7.22772597e-01, 2.77227403e-01],\n",
       "       [9.23150044e-01, 7.68499555e-02],\n",
       "       [1.81841359e-02, 9.81815864e-01],\n",
       "       [2.50273362e-02, 9.74972664e-01],\n",
       "       [9.98745419e-01, 1.25458058e-03],\n",
       "       [9.57238327e-01, 4.27616733e-02],\n",
       "       [3.55584746e-06, 9.99996444e-01],\n",
       "       [8.75971276e-04, 9.99124029e-01],\n",
       "       [4.30023835e-01, 5.69976165e-01],\n",
       "       [6.44601505e-01, 3.55398495e-01],\n",
       "       [5.81280998e-03, 9.94187190e-01],\n",
       "       [8.39742717e-01, 1.60257283e-01],\n",
       "       [3.02548079e-02, 9.69745192e-01],\n",
       "       [1.68439281e-02, 9.83156072e-01],\n",
       "       [1.73169352e-02, 9.82683065e-01],\n",
       "       [9.65805758e-01, 3.41942423e-02],\n",
       "       [2.60904052e-01, 7.39095948e-01],\n",
       "       [9.99384109e-01, 6.15891235e-04],\n",
       "       [8.65830622e-01, 1.34169378e-01]])"
      ]
     },
     "execution_count": 55,
     "metadata": {},
     "output_type": "execute_result"
    }
   ],
   "source": [
    "lg.predict_proba(xtest)"
   ]
  },
  {
   "cell_type": "code",
   "execution_count": 56,
   "metadata": {},
   "outputs": [],
   "source": [
    "ypred_tr_lb = le.inverse_transform(ypred_tr)\n",
    "ypred_ts_lb= le.inverse_transform(ypred_ts)"
   ]
  },
  {
   "cell_type": "code",
   "execution_count": 57,
   "metadata": {},
   "outputs": [
    {
     "data": {
      "text/plain": [
       "array(['R', 'M', 'M', 'M', 'M', 'M', 'R', 'M', 'R', 'M', 'M', 'R', 'R',\n",
       "       'M', 'M', 'M', 'M', 'R', 'R', 'M', 'M', 'M', 'R', 'R', 'M', 'R',\n",
       "       'R', 'R', 'M', 'R', 'R', 'M', 'M', 'M', 'R', 'M', 'M', 'R', 'M',\n",
       "       'R', 'M', 'R', 'M', 'M', 'R', 'M', 'R', 'M', 'M', 'M', 'M', 'R',\n",
       "       'M', 'M', 'R', 'M', 'M', 'M', 'R', 'M', 'R', 'M', 'M', 'R', 'M',\n",
       "       'R', 'M', 'M', 'M', 'R', 'M', 'R', 'R', 'M', 'R', 'M', 'R', 'M',\n",
       "       'M', 'R', 'R', 'M', 'R', 'M', 'M', 'M', 'M', 'R', 'M', 'M', 'M',\n",
       "       'M', 'M', 'M', 'R', 'M', 'R', 'M', 'R', 'R', 'M', 'M', 'R', 'R',\n",
       "       'R', 'R', 'R', 'R', 'R', 'R', 'R', 'M', 'R', 'M', 'M', 'M', 'R',\n",
       "       'M', 'M', 'M', 'R', 'R', 'R', 'M', 'M', 'M', 'R', 'R', 'M', 'M',\n",
       "       'M', 'M', 'R', 'R', 'M', 'M', 'R', 'R', 'M', 'M', 'M', 'M', 'M',\n",
       "       'R'], dtype=object)"
      ]
     },
     "execution_count": 57,
     "metadata": {},
     "output_type": "execute_result"
    }
   ],
   "source": [
    "ypred_tr_lb"
   ]
  },
  {
   "cell_type": "code",
   "execution_count": 58,
   "metadata": {},
   "outputs": [
    {
     "data": {
      "text/plain": [
       "array(['M', 'M', 'R', 'M', 'R', 'M', 'R', 'M', 'R', 'M', 'R', 'M', 'R',\n",
       "       'R', 'R', 'M', 'R', 'M', 'M', 'R', 'R', 'R', 'M', 'M', 'M', 'M',\n",
       "       'M', 'R', 'M', 'R', 'R', 'M', 'M', 'R', 'R', 'R', 'M', 'M', 'R',\n",
       "       'M', 'R', 'M', 'M', 'R', 'M', 'M', 'R', 'R', 'M', 'M', 'R', 'R',\n",
       "       'R', 'M', 'R', 'M', 'R', 'R', 'R', 'M', 'R', 'M', 'M'],\n",
       "      dtype=object)"
      ]
     },
     "execution_count": 58,
     "metadata": {},
     "output_type": "execute_result"
    }
   ],
   "source": [
    "ypred_ts_lb"
   ]
  },
  {
   "cell_type": "code",
   "execution_count": null,
   "metadata": {},
   "outputs": [],
   "source": []
  }
 ],
 "metadata": {
  "kernelspec": {
   "display_name": "venv",
   "language": "python",
   "name": "python3"
  },
  "language_info": {
   "codemirror_mode": {
    "name": "ipython",
    "version": 3
   },
   "file_extension": ".py",
   "mimetype": "text/x-python",
   "name": "python",
   "nbconvert_exporter": "python",
   "pygments_lexer": "ipython3",
   "version": "3.11.6"
  }
 },
 "nbformat": 4,
 "nbformat_minor": 2
}
